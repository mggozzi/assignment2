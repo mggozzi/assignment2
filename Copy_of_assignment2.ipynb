{
  "cells": [
    {
      "cell_type": "markdown",
      "metadata": {
        "id": "view-in-github",
        "colab_type": "text"
      },
      "source": [
        "<a href=\"https://colab.research.google.com/github/mggozzi/assignment2/blob/main/Copy_of_assignment2.ipynb\" target=\"_parent\"><img src=\"https://colab.research.google.com/assets/colab-badge.svg\" alt=\"Open In Colab\"/></a>"
      ]
    },
    {
      "cell_type": "markdown",
      "id": "13ad028b-72b7-43ed-aa78-96fd4e518040",
      "metadata": {
        "id": "13ad028b-72b7-43ed-aa78-96fd4e518040"
      },
      "source": [
        "# Assignment: Data Wrangling and Exploratory Data Analysis\n",
        "## Do Q1 and Q2, and one other question.\n",
        "`! git clone https://www.github.com/DS3001/assignment2`"
      ]
    },
    {
      "cell_type": "code",
      "source": [
        "! git clone https://www.github.com/mggozzi/assignment2"
      ],
      "metadata": {
        "id": "o1yJPQBtFXvo"
      },
      "id": "o1yJPQBtFXvo",
      "execution_count": null,
      "outputs": []
    },
    {
      "cell_type": "code",
      "source": [
        "import pandas as pd\n",
        "import numpy as np\n"
      ],
      "metadata": {
        "id": "ENvCrrbjJ7wf"
      },
      "id": "ENvCrrbjJ7wf",
      "execution_count": 3,
      "outputs": []
    },
    {
      "cell_type": "markdown",
      "id": "5735a4d4-8be8-433a-a351-70eb8002e632",
      "metadata": {
        "id": "5735a4d4-8be8-433a-a351-70eb8002e632"
      },
      "source": [
        "**Q1.** Open the \"tidy_data.pdf\" document in the repo, which is a paper called Tidy Data by Hadley Wickham.\n",
        "\n",
        "  1. Read the abstract. What is this paper about?\n",
        "  2. Read the introduction. What is the \"tidy data standard\" intended to accomplish?\n",
        "  3. Read the intro to section 2. What does this sentence mean: \"Like families, tidy datasets are all alike but every messy dataset is messy in its own way.\" What does this sentence mean: \"For a given dataset, it’s usually easy to figure out what are observations and what are variables, but it is surprisingly difficult to precisely define variables and observations in general.\"\n",
        "  4. Read Section 2.2. How does Wickham define values, variables, and observations?\n",
        "  5. How is \"Tidy Data\" defined in section 2.3?\n",
        "  6. Read the intro to Section 3 and Section 3.1. What are the 5 most common problems with messy datasets? Why are the data in Table 4 messy? What is \"melting\" a dataset?\n",
        "  7. Why, specifically, is table 11 messy but table 12 tidy and \"molten\"?\n",
        "  8. Read Section 6. What is the \"chicken-and-egg\" problem with focusing on tidy data? What does Wickham hope happens in the future with further work on the subject of data wrangling?"
      ]
    },
    {
      "cell_type": "markdown",
      "source": [
        "1) This paper is about tidying data sets into a specific structure.  It will cover tidy tools and the benefits of tidy data sets.\n",
        "\n",
        "2) The tidy data standard is meant to make data cleaning easier.  It allows for easier development of tools to work with the data, because everything will be done the same way with the same formatting guidelines.\n",
        "\n",
        "3) This first sentence means that all tidy data sets are the same, allowing for easy understanding and analysis.  There is only one way to be a tidy data set, but there are many ways to be a messy data set.  The 'mess' can take many different forms.  Tidying solves all of the potential 'messy' problems / irregularities.  The second sentence means that in determining observations and variables is straightforward in individual contexts.  If you try to generalize these definitions, however, the assumptions that applied to one situation will likely not apply to all.  Variable and observations should be understood based on the context they are described in.\n",
        "\n",
        "4)Wickham defines values as either a number or a string belonging to a variable and an observation.  A variable contains all values measuring the same attribute across units.  An observation includes all values measured on the same unit.\n",
        "\n",
        "5) In section 2.3, tidy data is defined as \"a standard way of mapping the meaning of a dataset to its structure\".\n",
        "\n",
        "6) The 5 most common problems with messy data are: column headers as values rather than variables, multiple variables being stored in one column, variables being stored in both rows and columns, multiple observational units being stored in the same table, and a single observational unit being stored in multiple tables.  The data in Table 4 are messy because variables are forming both columns and rows, and the column headers are values rather than variable names.  Melting a dataset involves moving data from columns that are NOT variables into rows- the old columns are combined into variable columns.\n",
        "\n",
        "7) Table 11 has variables stored in columns and rows.  In Table 12, the data are 'melted' with colvars id, year, and month.\n",
        "\n",
        "8) The 'chicken and egg problem' with tidy data is that tools used to tidy data and the tidy data itself are linked to each other.  Wickham states that 'tidy data is only as useful as the tools that work with it'.  He hopes that in the future, methodologies from other fields including user-centered design, human-computer interaction, and human factors will be used to improve the general understanding of the cognitive side of data analysis."
      ],
      "metadata": {
        "id": "UDvgPQ9IFKpA"
      },
      "id": "UDvgPQ9IFKpA"
    },
    {
      "cell_type": "markdown",
      "source": [],
      "metadata": {
        "id": "TRZNHw63FGcK"
      },
      "id": "TRZNHw63FGcK"
    },
    {
      "cell_type": "markdown",
      "id": "da879ea7-8aac-48a3-b6c2-daea56d2e072",
      "metadata": {
        "id": "da879ea7-8aac-48a3-b6c2-daea56d2e072"
      },
      "source": [
        "**Q2.** This question provides some practice cleaning variables which have common problems.\n",
        "1. Numeric variable: For `./data/airbnb_hw.csv`, clean the `Price` variable as well as you can, and explain the choices you make. How many missing values do you end up with? (Hint: What happens to the formatting when a price goes over 999 dollars, say from 675 to 1,112?)\n",
        "2. Categorical variable: For the `./data/sharks.csv` data covered in the lecture, clean the \"Type\" variable as well as you can, and explain the choices you make.\n",
        "3. Dummy variable: For the pretrial data covered in the lecture, clean the `WhetherDefendantWasReleasedPretrial` variable as well as you can, and, in particular, replace missing values with `np.nan`.\n",
        "4. Missing values, not at random: For the pretrial data covered in the lecture, clean the `ImposedSentenceAllChargeInContactEvent` variable as well as you can, and explain the choices you make. (Hint: Look at the `SentenceTypeAllChargesAtConvictionInContactEvent` variable.)"
      ]
    },
    {
      "cell_type": "code",
      "source": [
        "# Part 1\n",
        "df1 = pd.read_csv('./assignment2/data/airbnb_hw.csv',low_memory=False)\n",
        "df1\n",
        "#getting rid of any '$' or ',' that would make Price into a string\n",
        "#intended to solve the problem of 4 digit numbers\n",
        "df1['Price'].str.replace(',', '')\n",
        "df1['Price'].str.replace('$', '')\n",
        "\n",
        "\n",
        "#coercing Price to numeric\n",
        "pd.to_numeric(df1['Price'], errors='coerce')\n",
        "df1['Price'].describe()\n"
      ],
      "metadata": {
        "id": "xsS-wOh9JRip"
      },
      "id": "xsS-wOh9JRip",
      "execution_count": null,
      "outputs": []
    },
    {
      "cell_type": "code",
      "source": [
        "#making a dummy variable so I can see how many missing values there are\n",
        "df1['Price'+'_nan'] = df1['Price'].isnull()\n",
        "#adding up the number of missing values\n",
        "missingPrice = sum(df1['Price'+'_nan'])\n",
        "print(missingPrice)\n",
        "# this is showing zero missing values"
      ],
      "metadata": {
        "id": "X4guP0gqNqiI"
      },
      "id": "X4guP0gqNqiI",
      "execution_count": null,
      "outputs": []
    },
    {
      "cell_type": "code",
      "source": [
        "# Part 2\n",
        "df2=pd.read_csv('./assignment2/data/sharks.csv', low_memory=False)\n",
        "# seeing what the different values are\n",
        "print(df2['Type'].unique(), '\\n')\n",
        "\n",
        "#getting rid of the questionable / not definitive answers and replacing them with nan\n",
        "# these all sound like variations of 'unsure', so in an effort to clean them I am making them all nan\n",
        "df2['Type'] = df2['Type'].replace(('Under investigation', 'Invalid','Unverified', 'Unconfirmed', 'Questionable'),np.nan)\n",
        "\n",
        "#combining all the categories that are boat-related into one, under 'Boat'\n",
        "df2['Type'] = df2['Type'].replace(('Boatomg','Boating','Watercraft'),'Boat')\n",
        "\n",
        "\n",
        "print(df2['Type'].value_counts(), '\\n')"
      ],
      "metadata": {
        "id": "PWao0_lrrvVQ"
      },
      "id": "PWao0_lrrvVQ",
      "execution_count": null,
      "outputs": []
    },
    {
      "cell_type": "code",
      "source": [
        "#Part 3 --> dummy variable\n",
        "#getting the data from the lecture into this assignment\n",
        "url = 'http://www.vcsc.virginia.gov/pretrialdataproject/October%202017%20Cohort_Virginia%20Pretrial%20Data%20Project_Deidentified%20FINAL%20Update_10272021.csv'\n",
        "df3 = pd.read_csv(url,low_memory=False)\n",
        "\n",
        "#making the dummy variable\n",
        "df3['WhetherDefendantWasReleasedPretrial'+'_nan'] = df3['WhetherDefendantWasReleasedPretrial'].isnull()\n",
        "\n",
        "#replacing the missing values in the dummy with nan\n",
        "df3['WhetherDefendantWasReleasedPretrial'+'_nan'] = df3['WhetherDefendantWasReleasedPretrial'+'_nan'].replace('', np.nan)\n",
        "\n",
        "#checking to make sure all the missing are nan\n",
        "df3['WhetherDefendantWasReleasedPretrial'+'_nan'].describe()\n"
      ],
      "metadata": {
        "id": "-TQobD_Azjvf"
      },
      "id": "-TQobD_Azjvf",
      "execution_count": null,
      "outputs": []
    },
    {
      "cell_type": "code",
      "source": [
        "#Part 4\n",
        "var= 'ImposedSentenceAllChargeInContactEvent'\n",
        "\n",
        "# changing the data type to numeric\n",
        "\n",
        "df3[var] = pd.to_numeric(df3[var], errors='coerce')\n",
        "\n",
        "\n",
        "# these data are all measured in months, which is not a very consistent measure because each month has a different number of days\n",
        "#i thought about trying to convert from months to days or another unit, but there was no way to determine which months were included in each of the sentences,\n",
        "#which would have been necessary to make this conversion\n",
        "\n",
        "# i am going to replace any missing / empty values with nan\n",
        "\n",
        "df3[var].replace(' ', np.nan)\n",
        "\n",
        "# i am going to split and categorizes the sentences into 'under one year' and 'over (or exactly) one year'\n",
        "# all 'under one year' values will be coded as 2, and all 'over (or exactly) one year' values will be coded as 3\n",
        "# all the 0's will remain 0\n",
        "#this will allow for easy identification of how long each sentence was, in terms of shorter than or longer than a year\n",
        "\n",
        "#accomplishing this with a for loop\n",
        "for each in df3[var]:\n",
        "\n",
        "    if each >= 12 :\n",
        "        each == 3\n",
        "    if each ==0:\n",
        "        each ==0\n",
        "    else:\n",
        "        each == 2\n",
        "\n",
        "df3[var].describe()\n"
      ],
      "metadata": {
        "id": "hUznOHsTtbYF"
      },
      "id": "hUznOHsTtbYF",
      "execution_count": null,
      "outputs": []
    },
    {
      "cell_type": "markdown",
      "id": "c11bcd96-2834-41a4-80fe-d354b4277fd9",
      "metadata": {
        "id": "c11bcd96-2834-41a4-80fe-d354b4277fd9"
      },
      "source": [
        "**Q3.** This question provides some practice doing exploratory data analysis and visualization.\n",
        "\n",
        "The \"relevant\" variables for this question are:\n",
        "  - `level` - Level of institution (4-year, 2-year)\n",
        "  - `aid_value` - The average amount of student aid going to undergraduate recipients\n",
        "  - `control` - Public, Private not-for-profit, Private for-profit\n",
        "  - `grad_100_value` - percentage of first-time, full-time, degree-seeking undergraduates who complete a degree or certificate program within 100 percent of expected time (bachelor's-seeking group at 4-year institutions)\n",
        "\n",
        "1. Load the `./data/college_completion.csv` data with Pandas.\n",
        "2. What are are the dimensions of the data? How many observations are there? What are the variables included? Use `.head()` to examine the first few rows of data.\n",
        "3. Cross tabulate `control` and `level`. Describe the patterns you see.\n",
        "4. For `grad_100_value`, create a histogram, kernel density plot, boxplot, and statistical description.\n",
        "5. For `grad_100_value`, create a grouped kernel density plot by `control` and by `level`. Describe what you see. Use `groupby` and `.describe` to make grouped calculations of statistical descriptions of `grad_100_value` by `level` and `control`. Which institutions appear to have the best graduation rates?\n",
        "6. Create a new variable, `df['levelXcontrol']=df['level']+', '+df['control']` that interacts level and control. Make a grouped kernel density plot. Which institutions appear to have the best graduation rates?\n",
        "7. Make a kernel density plot of `aid_value`. Notice that your graph is \"bi-modal\", having two little peaks that represent locally most common values. Now group your graph by `level` and `control`. What explains the bi-modal nature of the graph? Use `groupby` and `.describe` to make grouped calculations of statistical descriptions of `aid_value` by `level` and `control`.\n",
        "8. Make a scatterplot of `grad_100_value` by `aid_value`. Describe what you see. Now make the same plot, grouping by `level` and then `control`. Describe what you see. For which kinds of institutions does aid seem to increase graduation rates?"
      ]
    },
    {
      "cell_type": "code",
      "source": [
        "#loading the data\n",
        "df6=pd.read_csv('./assignment2/data/college_completion.csv', low_memory=False)\n",
        "\n",
        "#variable names\n",
        "print(df6.columns.tolist())\n",
        "\n",
        "#dimensions\n",
        "print(df6.shape)\n",
        "\n",
        "#examining the first 5 rows\n",
        "df6.head()\n",
        "\n",
        "#cross tabulating\n",
        "pd.crosstab(df6['control'], df6['level'])\n",
        "# there are significantly more private not-for-profit 4 year universities than 2-year universities\n",
        "# there are more private 4-year universities than 2-year universities, but more public 2-year universities than 4-year universities\n",
        "# there are more 4-year universities than 2-year universities\n",
        "\n",
        "import seaborn as sns\n",
        "\n",
        "#histogram for grad_100_value\n",
        "histo = df6['grad_100_value'].hist(bins=50)\n",
        "histo\n",
        "\n",
        "#statistical description for grad_100_value\n",
        "stats= df6['grad_100_value'].describe()\n",
        "print(stats)\n"
      ],
      "metadata": {
        "id": "Y9KDo3dKFU1C"
      },
      "id": "Y9KDo3dKFU1C",
      "execution_count": null,
      "outputs": []
    },
    {
      "cell_type": "code",
      "source": [
        "#kernel density for grad_100_value\n",
        "kernel= sns.kdeplot(data=df6,x='grad_100_value')\n",
        "kernel"
      ],
      "metadata": {
        "id": "jmOeCG0PT0Xo"
      },
      "id": "jmOeCG0PT0Xo",
      "execution_count": null,
      "outputs": []
    },
    {
      "cell_type": "code",
      "source": [
        "#boxplot for grad_100_value\n",
        "box= sns.boxplot(data=df6,x='grad_100_value')\n",
        "box"
      ],
      "metadata": {
        "id": "4tZgpfAjT4PH"
      },
      "id": "4tZgpfAjT4PH",
      "execution_count": null,
      "outputs": []
    },
    {
      "cell_type": "code",
      "source": [
        "# grouped density by control\n",
        "df_wide = df6.pivot(columns='control',values='grad_100_value')\n",
        "df_wide.plot.density()\n",
        "# the max density for public universities is approximately 0.045, and occurs between 0% and 25%\n",
        "# the max density for private not-for-profit universities is approximately 0.015, and occurs between 25% and 50%\n",
        "#the max density for private for-profit universities is approximately 0.017, and occurs between 0% and 25%"
      ],
      "metadata": {
        "id": "po8A01PSUHpg"
      },
      "id": "po8A01PSUHpg",
      "execution_count": null,
      "outputs": []
    },
    {
      "cell_type": "code",
      "source": [
        "#grouped density by level\n",
        "df_wide2 = df6.pivot(columns='level',values='grad_100_value')\n",
        "df_wide2.plot.density()\n",
        "#The max density for 2-year universities is approximately 0.033, and occurs between 0% and 25%\n",
        "#the max density for 4-year universities is approximately 0.017, and occurs almost exactly at 25%"
      ],
      "metadata": {
        "id": "ifbXsWOKWRsd"
      },
      "id": "ifbXsWOKWRsd",
      "execution_count": null,
      "outputs": []
    },
    {
      "cell_type": "code",
      "source": [
        "# stats grouped by level\n",
        "df6.loc[:,['level','grad_100_value']].groupby('level').describe()\n",
        "#4 year universities seem to have a better graduation rate"
      ],
      "metadata": {
        "id": "SypdkgRCZHC_"
      },
      "id": "SypdkgRCZHC_",
      "execution_count": null,
      "outputs": []
    },
    {
      "cell_type": "code",
      "source": [
        "# stats grouped by control\n",
        "df6.loc[:,['control','grad_100_value']].groupby('control').describe()\n",
        "# private not-for-profit universities seem to have the best graduation rate"
      ],
      "metadata": {
        "id": "YbP__TGEZgmG"
      },
      "id": "YbP__TGEZgmG",
      "execution_count": null,
      "outputs": []
    },
    {
      "cell_type": "code",
      "source": [
        "# grouped kernel density with new variable\n",
        "df6['levelXcontrol']=df6['level']+', '+df6['control']\n",
        "df_wide3 = df6.pivot(columns='levelXcontrol',values='grad_100_value')\n",
        "df_wide3.plot.density()\n",
        "# 2 and 4-year private not-for-profit universities seem to have the best graduation rates"
      ],
      "metadata": {
        "id": "fl8rLnOEjR-O"
      },
      "id": "fl8rLnOEjR-O",
      "execution_count": null,
      "outputs": []
    },
    {
      "cell_type": "code",
      "source": [
        "#kernel density for aid_value\n",
        "sns.kdeplot(data=df6,x='aid_value')\n",
        "\n",
        "#grouped by level\n",
        "df_wide4 = df6.pivot(columns='level',values='aid_value')\n",
        "df_wide4.plot.density()\n",
        "\n",
        "#grouped by control\n",
        "df_wide5 = df6.pivot(columns='control',values='aid_value')\n",
        "df_wide5.plot.density()\n",
        "\n",
        "# the bimodal nature of the graph seems to be a result of the private not-for-profit max aid being higher and creating the second peak by 'pulling' to the right\n",
        "# the 4 year university aid is also contributing to this effect --> the density of higher aid is larger than for 2-year universities"
      ],
      "metadata": {
        "id": "ECe4dR8vkMic"
      },
      "id": "ECe4dR8vkMic",
      "execution_count": null,
      "outputs": []
    },
    {
      "cell_type": "code",
      "source": [
        "#stats grouped by control\n",
        "\n",
        "df6.loc[:,['control','aid_value']].groupby('control').describe()"
      ],
      "metadata": {
        "id": "lDZXNjthm_1z"
      },
      "id": "lDZXNjthm_1z",
      "execution_count": null,
      "outputs": []
    },
    {
      "cell_type": "code",
      "source": [
        "#stats grouped by level\n",
        "\n",
        "df6.loc[:,['level','aid_value']].groupby('level').describe()"
      ],
      "metadata": {
        "id": "6qfifA6CnAX4"
      },
      "id": "6qfifA6CnAX4",
      "execution_count": null,
      "outputs": []
    },
    {
      "cell_type": "code",
      "source": [
        "#scatterplot: grad_100_value and aid_value\n",
        "df6.plot.scatter(y='aid_value', x='grad_100_value')\n",
        "# there seems to be a very slight positive correlation between the two variables, but I doubt there is any statistical significance to this relationship"
      ],
      "metadata": {
        "id": "gPhiJY0fnb3r"
      },
      "id": "gPhiJY0fnb3r",
      "execution_count": null,
      "outputs": []
    },
    {
      "cell_type": "code",
      "source": [
        "#scatterplot: grouping by level\n",
        "sns.scatterplot(data=df6, x='grad_100_value', y='aid_value', hue='level')\n",
        "#this plot shows that increasing aid seems to improve graduation rates for 4 year universities, as there is a positive correlation between aid_value and grad_100_value for this group\n",
        "#aid seems to have less of an effect on graduation rates for 2 year universities (no improvement / positive correlation)\n",
        "\n",
        "#aid seems to increase graduation rates for 4 year universities"
      ],
      "metadata": {
        "id": "2l6oxT8AoQhL"
      },
      "id": "2l6oxT8AoQhL",
      "execution_count": null,
      "outputs": []
    },
    {
      "cell_type": "code",
      "source": [
        "#scatterplot: grad_100_value and control\n",
        "sns.scatterplot(data=df6, x='grad_100_value', y='aid_value', hue='control')\n",
        "\n",
        "#there is a positive correlation between aid_value and grad_100_value for the private not-for-profit group\n",
        "#there is potentially a very slight positive correlation between aid_value and grad_100_value for the public group\n",
        "#there is no correlation between aid_value and grad_100_value for the private for-profit group\n",
        "\n",
        "#aid seems to increase graduation rates for private not-for-profit universities (to the greatest extent)"
      ],
      "metadata": {
        "id": "VyS9u4pmoYs_"
      },
      "id": "VyS9u4pmoYs_",
      "execution_count": null,
      "outputs": []
    },
    {
      "cell_type": "markdown",
      "id": "98d34a3b-c21d-4dc9-a8d2-fb7686804ceb",
      "metadata": {
        "id": "98d34a3b-c21d-4dc9-a8d2-fb7686804ceb"
      },
      "source": [
        "**Q4.** This question uses the Airbnb data to practice making visualizations.\n",
        "\n",
        "  1. Load the `./data/airbnb_hw.csv` data with Pandas. You should have cleaned the `Price` variable in question 2, and you'll need it later for this question.\n",
        "  2. What are are the dimensions of the data? How many observations are there? What are the variables included? Use `.head()` to examine the first few rows of data.\n",
        "  3. Cross tabulate `Room Type` and `Property Type`. What patterns do you see in what kinds of rentals are available? For which kinds of properties are private rooms more common than renting the entire property?\n",
        "  4. For `Price`, make a histogram, kernel density, box plot, and a statistical description of the variable. Are the data badly scaled? Are there many outliers? Use `log` to transform price into a new variable, `price_log`, and take these steps again.\n",
        "  5. Make a scatterplot of `price_log` and `Beds`. Describe what you see. Use `.groupby()` to compute a desciption of `Price` conditional on/grouped by the number of beds. Describe any patterns you see in the average price and standard deviation in prices.\n",
        "  6. Make a scatterplot of `price_log` and `Beds`, but color the graph by `Room Type` and `Property Type`. What patterns do you see? Compute a description of `Price` conditional on `Room Type` and `Property Type`. Which Room Type and Property Type have the highest prices on average? Which have the highest standard deviation? Does the mean or median appear to be a more reliable estimate of central tendency, and explain why?\n",
        "  7. We've looked a bit at this `price_log` and `Beds` scatterplot. Use seaborn to make a `jointplot` with `kind=hex`. Where are the data actually distributed? How does it affect the way you think about the plots in 5 and 6?"
      ]
    },
    {
      "cell_type": "markdown",
      "id": "649494cd-cfd6-4f80-992a-9994fc19e1d5",
      "metadata": {
        "id": "649494cd-cfd6-4f80-992a-9994fc19e1d5"
      },
      "source": [
        "**Q5.** Many important datasets contain a race variable, typically limited to a handful of values often including Black, White, Asian, Latino, and Indigenous. This question looks at data gathering efforts on this variable by the U.S. Federal government.\n",
        "\n",
        "1. How did the most recent US Census gather data on race?\n",
        "2. Why do we gather these data? What role do these kinds of data play in politics and society? Why does data quality matter?\n",
        "3. Please provide a constructive criticism of how the Census was conducted: What was done well? What do you think was missing? How should future large scale surveys be adjusted to best reflect the diversity of the population? Could some of the Census' good practices be adopted more widely to gather richer and more useful data?\n",
        "4. How did the Census gather data on sex and gender? Please provide a similar constructive criticism of their practices.\n",
        "5. When it comes to cleaning data, what concerns do you have about protected characteristics like sex, gender, sexual identity, or race? What challenges can you imagine arising when there are missing values? What good or bad practices might people adopt, and why?\n",
        "6. Suppose someone invented an algorithm to impute values for protected characteristics like race, gender, sex, or sexuality. What kinds of concerns would you have?"
      ]
    },
    {
      "cell_type": "markdown",
      "id": "2f38f2fd-6381-481d-bba9-017f3d363426",
      "metadata": {
        "id": "2f38f2fd-6381-481d-bba9-017f3d363426"
      },
      "source": [
        "**Q6.** Open the `./data/CBO_data.pdf` file. This contains tax data for 2019, explaining where the money comes from that the U.S. Federal Government Spends in terms of taxation on individuals/families and payroll taxes (the amount that your employer pays in taxes on your wages).\n",
        "\n",
        "For some context, the Federal government ultimately spent about $4.4 trillion in 2019, which was 21% of GDP (the total monetary value of all goods and services produced within the United States). Individual Income Taxes is the amount individuals pay on their wages to the Federal government, Corporate Income Taxes is the taxes individuals pay on capital gains from investment when they sell stock or other financial instruments, Payroll Taxes is the tax your employer pays on your wages, Excises and Customs Duties are taxes on goods or services like sin taxes on cigarettes or alcohol, and Estate and Gift Taxes are taxes paid on transfers of wealth to other people.\n",
        "\n",
        "1. Get the Millions of Families and Billions of Dollars data into a .csv file and load it with Pandas.\n",
        "2. Create a bar plot of individual income taxes by income decile. Explain what the graph shows. Why are some values negative?\n",
        "3. Create a bar plot of Total Federal Taxes by income decile. Which deciles are paying net positive amounts, and which are paying net negative amounts?\n",
        "4. Create a stacked bar plot for which Total Federal Taxes is grouped by Individual Income Taxes, Payroll Taxes, Excises and Customs Duties, and Estate and Gift Taxes. How does the share of taxes paid vary across the adjusted income deciles? (Hint: Are these the kind of data you want to melt?)\n",
        "5. Below the Total line for Millions of Families and Billions of Dollars, there are data for the richest of the richest families. Plot this alongside the bars for the deciles above the Total line. Describe your results.\n",
        "6. Get the Percent Distribution data into a .csv file and load it with Pandas. Create a bar graph of Total Federal Taxes by income decile.\n",
        "7. A tax system is progressive if higher-income and wealthier individuals pay more than lower-income and less wealthy individuals, and it is regressive if the opposite is true. Is the U.S. tax system progressive in terms of amount paid? In terms of the percentage of the overall total?\n",
        "8. Do the rich pay enough in taxes? Defend your answer."
      ]
    }
  ],
  "metadata": {
    "kernelspec": {
      "display_name": "Python 3 (ipykernel)",
      "language": "python",
      "name": "python3"
    },
    "language_info": {
      "codemirror_mode": {
        "name": "ipython",
        "version": 3
      },
      "file_extension": ".py",
      "mimetype": "text/x-python",
      "name": "python",
      "nbconvert_exporter": "python",
      "pygments_lexer": "ipython3",
      "version": "3.10.4"
    },
    "colab": {
      "provenance": [],
      "include_colab_link": true
    }
  },
  "nbformat": 4,
  "nbformat_minor": 5
}